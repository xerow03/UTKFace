{
 "cells": [
  {
   "cell_type": "markdown",
   "metadata": {},
   "source": [
    "# Thư viện"
   ]
  },
  {
   "cell_type": "code",
   "execution_count": 1,
   "metadata": {},
   "outputs": [],
   "source": [
    "import os\n",
    "import pandas as pd\n",
    "import numpy as np\n",
    "import matplotlib.pyplot as plt\n",
    "from keras.api.preprocessing.image import load_img\n",
    "from keras.api.models import Model\n",
    "from keras.api.layers import Dense, Conv2D, Dropout, Flatten, MaxPooling2D, BatchNormalization, Input\n",
    "from PIL import Image\n",
    "from tqdm.notebook import tqdm\n",
    "from sklearn.model_selection import train_test_split"
   ]
  },
  {
   "cell_type": "markdown",
   "metadata": {},
   "source": [
    "# Xử lý dữ liệu"
   ]
  },
  {
   "cell_type": "code",
   "execution_count": 2,
   "metadata": {},
   "outputs": [],
   "source": [
    "datasetPath = \"data/UTKFace\""
   ]
  },
  {
   "cell_type": "code",
   "execution_count": 3,
   "metadata": {},
   "outputs": [],
   "source": [
    "dataList = os.listdir(datasetPath)"
   ]
  },
  {
   "cell_type": "code",
   "execution_count": 4,
   "metadata": {},
   "outputs": [],
   "source": [
    "np.random.shuffle(dataList)"
   ]
  },
  {
   "cell_type": "code",
   "execution_count": null,
   "metadata": {},
   "outputs": [],
   "source": [
    "ages = list()\n",
    "gender = list()\n",
    "\n",
    "for filename in tqdm(dataList):\n",
    "    dataName = filename.split('_')\n",
    "    ages.append(int(dataName[0]))\n",
    "    gender.append(int(dataName[1]))"
   ]
  },
  {
   "cell_type": "code",
   "execution_count": 6,
   "metadata": {},
   "outputs": [],
   "source": [
    "df = pd.DataFrame({\"image\": dataList , \"age\": ages, \"gender\": gender})"
   ]
  },
  {
   "cell_type": "code",
   "execution_count": null,
   "metadata": {},
   "outputs": [],
   "source": [
    "df"
   ]
  },
  {
   "cell_type": "code",
   "execution_count": null,
   "metadata": {},
   "outputs": [],
   "source": [
    "df.info()"
   ]
  },
  {
   "cell_type": "code",
   "execution_count": null,
   "metadata": {},
   "outputs": [],
   "source": [
    "df.describe()"
   ]
  },
  {
   "cell_type": "code",
   "execution_count": 9,
   "metadata": {},
   "outputs": [],
   "source": [
    "genderDict = {0: \"Nam\", 1: \"Nữ\"}"
   ]
  },
  {
   "cell_type": "code",
   "execution_count": null,
   "metadata": {},
   "outputs": [],
   "source": [
    "df.dtypes"
   ]
  },
  {
   "cell_type": "code",
   "execution_count": null,
   "metadata": {},
   "outputs": [],
   "source": [
    "img = Image.open(f\"{datasetPath}/{df.iloc[0, 0]}\")\n",
    "plt.imshow(img)"
   ]
  },
  {
   "cell_type": "code",
   "execution_count": 12,
   "metadata": {},
   "outputs": [],
   "source": [
    "trainDataset, testDataset = train_test_split(df, train_size=0.8, random_state=42)"
   ]
  },
  {
   "cell_type": "code",
   "execution_count": null,
   "metadata": {},
   "outputs": [],
   "source": [
    "trainDataset"
   ]
  },
  {
   "cell_type": "code",
   "execution_count": null,
   "metadata": {},
   "outputs": [],
   "source": [
    "testDataset"
   ]
  },
  {
   "cell_type": "code",
   "execution_count": null,
   "metadata": {},
   "outputs": [],
   "source": [
    "df.nunique()"
   ]
  },
  {
   "cell_type": "code",
   "execution_count": null,
   "metadata": {},
   "outputs": [],
   "source": [
    "trainDataset.nunique()"
   ]
  },
  {
   "cell_type": "code",
   "execution_count": null,
   "metadata": {},
   "outputs": [],
   "source": [
    "testDataset.nunique()"
   ]
  },
  {
   "cell_type": "markdown",
   "metadata": {},
   "source": [
    "# Trích xuất thuộc tính"
   ]
  },
  {
   "cell_type": "code",
   "execution_count": null,
   "metadata": {},
   "outputs": [],
   "source": [
    "xTrain = list()\n",
    "for image in tqdm(trainDataset['image']):\n",
    "    img = load_img(f\"{datasetPath}/{image}\")\n",
    "    img = img.resize((128, 128), Image.Resampling.LANCZOS)\n",
    "    img = np.array(img)\n",
    "    xTrain.append(img)\n",
    "    \n",
    "xTrain = np.array(xTrain)\n",
    "xTrain = xTrain.reshape(len(xTrain), 128, 128, 3)"
   ]
  },
  {
   "cell_type": "code",
   "execution_count": null,
   "metadata": {},
   "outputs": [],
   "source": [
    "xTrain"
   ]
  },
  {
   "cell_type": "markdown",
   "metadata": {},
   "source": [
    "## Chuẩn hóa"
   ]
  },
  {
   "cell_type": "code",
   "execution_count": null,
   "metadata": {},
   "outputs": [],
   "source": [
    "xTrain = xTrain/255"
   ]
  },
  {
   "cell_type": "code",
   "execution_count": 20,
   "metadata": {},
   "outputs": [],
   "source": [
    "yGender = np.array(trainDataset[\"gender\"])\n",
    "yAge = np.array(trainDataset[\"age\"])"
   ]
  },
  {
   "cell_type": "markdown",
   "metadata": {},
   "source": [
    "# Mô hình CNN"
   ]
  },
  {
   "cell_type": "code",
   "execution_count": null,
   "metadata": {},
   "outputs": [],
   "source": [
    "inputSize = Input(shape=(128, 128, 3))\n",
    "M = Conv2D(64, (3, 3), activation='relu')(inputSize)\n",
    "M = BatchNormalization(axis=3)(M)\n",
    "M = MaxPooling2D((3, 3))(M)\n",
    "M = Conv2D(128, (3, 3), activation='relu')(M)\n",
    "M = MaxPooling2D(strides=(2, 2))(M)\n",
    "M = Conv2D(256, (3, 3), activation='relu')(M)\n",
    "M = MaxPooling2D()(M)\n",
    "\n",
    "M = Flatten()(M)\n",
    "\n",
    "dense1 = Dense(256, activation='relu')(M)\n",
    "dense2 = Dense(256, activation='relu')(M)\n",
    "dense3 = Dense(128, activation='relu')(dense2)\n",
    "\n",
    "dropout1 = Dropout(0.4)(dense1)\n",
    "dropout2 = Dropout(0.4)(dense3)\n",
    "\n",
    "outputGender = Dense(1, activation='sigmoid', name=\"genderOutput\")(dropout1)\n",
    "outputAge = Dense(1, activation='relu', name=\"ageOutput\")(dropout2)\n",
    "\n",
    "model = Model(inputs=[inputSize], outputs=[outputGender, outputAge])\n",
    "\n",
    "model.summary()"
   ]
  },
  {
   "cell_type": "code",
   "execution_count": 22,
   "metadata": {},
   "outputs": [],
   "source": [
    "model.compile(loss=['binary_crossentropy', 'mae'], optimizer='adam', metrics=['accuracy', 'mae'])"
   ]
  },
  {
   "cell_type": "markdown",
   "metadata": {},
   "source": [
    "## Huấn luyện mô hình"
   ]
  },
  {
   "cell_type": "code",
   "execution_count": null,
   "metadata": {},
   "outputs": [],
   "source": [
    "modelCNN = model.fit(x=xTrain, y=[yGender, yAge], batch_size=32, epochs=10, validation_split=0.2)"
   ]
  },
  {
   "cell_type": "markdown",
   "metadata": {},
   "source": [
    "## Xây dựng biểu đồ hàm mất mát"
   ]
  },
  {
   "cell_type": "code",
   "execution_count": null,
   "metadata": {},
   "outputs": [],
   "source": [
    "plt.plot(modelCNN.history['genderOutput_loss'])\n",
    "plt.plot(modelCNN.history['val_genderOutput_loss'])\n",
    "plt.title('Gender loss')\n",
    "plt.ylabel('loss')\n",
    "plt.xlabel('epoch')\n",
    "plt.legend(['train', 'validation'], loc='upper left')\n",
    "plt.show()"
   ]
  },
  {
   "cell_type": "code",
   "execution_count": null,
   "metadata": {},
   "outputs": [],
   "source": [
    "plt.plot(modelCNN.history['ageOutput_loss'])\n",
    "plt.plot(modelCNN.history['val_ageOutput_loss'])\n",
    "plt.title('Age loss')\n",
    "plt.ylabel('loss')\n",
    "plt.xlabel('epoch')\n",
    "plt.legend(['train', 'validation'], loc='upper left')\n",
    "plt.show()"
   ]
  },
  {
   "cell_type": "markdown",
   "metadata": {},
   "source": [
    "## Biểu đồ độ chính xác"
   ]
  },
  {
   "cell_type": "code",
   "execution_count": null,
   "metadata": {},
   "outputs": [],
   "source": [
    "plt.plot(modelCNN.history['genderOutput_accuracy'])\n",
    "plt.plot(modelCNN.history['val_genderOutput_accuracy'])\n",
    "plt.title('Gender accuracy')\n",
    "plt.ylabel('accuracy')\n",
    "plt.xlabel('epoch')\n",
    "plt.legend(['train', 'validation'], loc='upper left')\n",
    "plt.show()"
   ]
  },
  {
   "cell_type": "code",
   "execution_count": 53,
   "metadata": {},
   "outputs": [],
   "source": [
    "import random"
   ]
  },
  {
   "cell_type": "markdown",
   "metadata": {},
   "source": [
    "### Dùng mô hình dự đoán"
   ]
  },
  {
   "cell_type": "code",
   "execution_count": null,
   "metadata": {},
   "outputs": [],
   "source": [
    "index=random.randint(0,10000)\n",
    "print(\"Original: Gender = \", genderDict[yGender[index]],\" Age = \", yAge[index])\n",
    "\n",
    "pred = model.predict(xTrain[index].reshape(1, 128, 128, 3))\n",
    "pred_gender = genderDict[round(pred[0][0][0])] \n",
    "pred_age = round(pred[1][0][0])\n",
    "\n",
    "print(\"Prediction: Gender = \", pred_gender,\" Age = \", pred_age)\n",
    "plt.imshow(xTrain[index].reshape(128,128, 3))"
   ]
  },
  {
   "cell_type": "markdown",
   "metadata": {},
   "source": [
    "## Xử lý dữ liệu của bộ dữ liệu kiểm thử"
   ]
  },
  {
   "cell_type": "code",
   "execution_count": null,
   "metadata": {},
   "outputs": [],
   "source": [
    "xTest = list()\n",
    "for image in tqdm(testDataset['image']):\n",
    "    img = load_img(f\"{datasetPath}/{image}\")\n",
    "    img = img.resize((128, 128), Image.Resampling.LANCZOS)\n",
    "    img = np.array(img)\n",
    "    xTest.append(img)\n",
    "    \n",
    "xTest = np.array(xTest)\n",
    "xTest = xTest.reshape(len(xTest), 128, 128, 3)\n",
    "\n",
    "xTest = xTest/255\n",
    "\n",
    "yGenderTest = np.array(testDataset[\"gender\"])\n",
    "yAgeTest = np.array(testDataset[\"age\"])"
   ]
  },
  {
   "cell_type": "markdown",
   "metadata": {},
   "source": [
    "## Tính toán độ chính xác và hàm mất mát trên bộ dữ liệu kiểm thử"
   ]
  },
  {
   "cell_type": "code",
   "execution_count": null,
   "metadata": {},
   "outputs": [],
   "source": [
    "test_loss, test_gender_loss, test_age_loss, test_gender_accuracy, test_age_mae = model.evaluate(xTest, [yGenderTest, yAgeTest], verbose=0)\n",
    "\n",
    "print(f\"Test Gender Loss: {test_gender_loss}\")\n",
    "print(f\"Test Age Loss: {test_age_loss}\")\n",
    "print(f\"Test Gender Accuracy: {test_gender_accuracy}\")\n",
    "print(f\"Test Age MAE: {test_age_mae}\")"
   ]
  },
  {
   "cell_type": "markdown",
   "metadata": {},
   "source": [
    "## Lưu mô hình"
   ]
  },
  {
   "cell_type": "code",
   "execution_count": null,
   "metadata": {},
   "outputs": [],
   "source": [
    "model.save(\"model.keras\")"
   ]
  }
 ],
 "metadata": {
  "kernelspec": {
   "display_name": ".venv",
   "language": "python",
   "name": "python3"
  },
  "language_info": {
   "codemirror_mode": {
    "name": "ipython",
    "version": 3
   },
   "file_extension": ".py",
   "mimetype": "text/x-python",
   "name": "python",
   "nbconvert_exporter": "python",
   "pygments_lexer": "ipython3",
   "version": "3.10.16"
  }
 },
 "nbformat": 4,
 "nbformat_minor": 2
}
